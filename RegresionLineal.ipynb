{
 "cells": [
  {
   "cell_type": "code",
   "execution_count": null,
   "id": "05adb600",
   "metadata": {},
   "outputs": [],
   "source": [
    "class RegresionLineal:\n",
    "    def __init__(self):\n",
    "        self.theta0 = 0.0 \n",
    "        self.theta1 = 0.0 \n",
    "        self.alpha = 0.01  \n",
    "        self.epochs = 1000 \n",
    "\n",
    "        self.X = [1, 2, 3, 4, 5]\n",
    "        self.Y = [2, 4, 6, 8, 10]\n",
    "\n",
    "    def predict(self, x):\n",
    "        return self.theta0 + self.theta1 * x\n",
    "\n",
    "    def train(self):\n",
    "        n = len(self.X)\n",
    "        for _ in range(self.epochs):\n",
    "            sum_error0 = 0.0\n",
    "            sum_error1 = 0.0\n",
    "            for i in range(n):\n",
    "                error = self.predict(self.X[i]) - self.Y[i]\n",
    "                sum_error0 += error\n",
    "                sum_error1 += error * self.X[i]\n",
    "\n",
    "            self.theta0 -= (self.alpha / n) * sum_error0\n",
    "            self.theta1 -= (self.alpha / n) * sum_error1\n"
   ]
  },
  {
   "cell_type": "code",
   "execution_count": null,
   "id": "c05795db",
   "metadata": {},
   "outputs": [],
   "source": [
    "model = RegresionLineal()\n",
    "model.train()\n",
    "print(f\"Modelo entrenado: y = {model.theta0} + {model.theta1}x\")\n",
    "print(f\"Predicción para X=6: {model.predict(6)}\")\n"
   ]
  }
 ],
 "metadata": {},
 "nbformat": 4,
 "nbformat_minor": 5
}
