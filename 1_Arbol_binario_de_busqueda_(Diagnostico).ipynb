{
  "nbformat": 4,
  "nbformat_minor": 0,
  "metadata": {
    "colab": {
      "provenance": []
    },
    "kernelspec": {
      "name": "python3",
      "display_name": "Python 3"
    },
    "language_info": {
      "name": "python"
    }
  },
  "cells": [
    {
      "cell_type": "code",
      "execution_count": 8,
      "metadata": {
        "id": "om3_upEn3vuA"
      },
      "outputs": [],
      "source": [
        "class Nodo:\n",
        "    def __init__(self, nombre):\n",
        "        self.nombre = nombre\n",
        "        self.izquierda = None\n",
        "        self.derecha = None\n",
        "\n",
        "class Arbol:\n",
        "    def __init__(self):\n",
        "        self.raiz = None\n",
        "\n",
        "    def vacio(self):\n",
        "        return self.raiz is None\n",
        "\n",
        "    def insertar(self, nombre):\n",
        "        if self.vacio():\n",
        "            self.raiz = Nodo(nombre)\n",
        "        else:\n",
        "            self._insertarRec(self.raiz, nombre)\n",
        "\n",
        "    def _insertarRec(self, nodo, nombre):\n",
        "        if nombre < nodo.nombre:\n",
        "            if nodo.izquierda is None:\n",
        "                nodo.izquierda = Nodo(nombre)\n",
        "            else:\n",
        "                self._insertarRec(nodo.izquierda, nombre)\n",
        "        elif nombre > nodo.nombre:\n",
        "            if nodo.derecha is None:\n",
        "                nodo.derecha = Nodo(nombre)\n",
        "            else:\n",
        "                self._insertarRec(nodo.derecha, nombre)\n",
        "\n",
        "    def buscarNodo(self, nombre):\n",
        "        return self._buscarPorInorden(self.raiz, nombre)\n",
        "\n",
        "    def _buscarPorInorden(self, nodo, nombre):\n",
        "        if nodo is not None:\n",
        "            resultado = self._buscarPorInorden(nodo.izquierda, nombre)\n",
        "            if resultado:\n",
        "                return resultado\n",
        "            if nodo.nombre == nombre:\n",
        "                return nodo\n",
        "            return self._buscarPorInorden(nodo.derecha, nombre)\n",
        "        return None"
      ]
    },
    {
      "cell_type": "code",
      "source": [
        "arbol = Arbol()\n",
        "nombres = [\"Leonardo\", \"Valeria\", \"Hugo\", \"Camila\", \"Santiago\",\n",
        "           \"Diana\", \"Gabriel\", \"Ximena\", \"Isabela\", \"Bruno\"]\n",
        "for nombre in nombres:\n",
        "    arbol.insertar(nombre)\n"
      ],
      "metadata": {
        "id": "-fhYxDbE4Kw7"
      },
      "execution_count": 9,
      "outputs": []
    },
    {
      "cell_type": "code",
      "source": [
        "nodo = arbol.buscarNodo(\"Gabriel\")\n",
        "if nodo:\n",
        "    print(f\"Nodo se ha encontrado: {nodo.nombre}\")\n",
        "else:\n",
        "    print(\"Nodo no ha sido encontrado\")\n",
        "\n",
        "print(f\"¿El árbol se encuentra vacío? {arbol.vacio()}\")\n"
      ],
      "metadata": {
        "colab": {
          "base_uri": "https://localhost:8080/"
        },
        "id": "xzijaHJw4OPF",
        "outputId": "35422c31-67b0-4190-886f-bdb0abbfe55f"
      },
      "execution_count": 10,
      "outputs": [
        {
          "output_type": "stream",
          "name": "stdout",
          "text": [
            "Nodo se ha encontrado: Gabriel\n",
            "¿El árbol se encuentra vacío? False\n"
          ]
        }
      ]
    }
  ]
}