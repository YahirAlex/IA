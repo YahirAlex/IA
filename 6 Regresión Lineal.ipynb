{
  "cells": [
    {
      "cell_type": "code",
      "execution_count": 7,
      "id": "05adb600",
      "metadata": {
        "id": "05adb600"
      },
      "outputs": [],
      "source": [
        "class RegresionLineal:\n",
        "    def __init__(self):\n",
        "        self.theta0 = 0.0\n",
        "        self.theta1 = 0.0\n",
        "        self.alpha = 0.01\n",
        "        self.epochs = 1000\n",
        "\n",
        "        self.X = [1, 2, 3, 4, 5]\n",
        "        self.Y = [2, 4, 6, 8, 10]\n",
        "\n",
        "    def predict(self, x):\n",
        "        return self.theta0 + self.theta1 * x\n",
        "\n",
        "    def train(self):\n",
        "        n = len(self.X)\n",
        "        for _ in range(self.epochs):\n",
        "            sum_error0 = 0.0\n",
        "            sum_error1 = 0.0\n",
        "            for i in range(n):\n",
        "                error = self.predict(self.X[i]) - self.Y[i]\n",
        "                sum_error0 += error\n",
        "                sum_error1 += error * self.X[i]\n",
        "\n",
        "            self.theta0 -= (self.alpha / n) * sum_error0\n",
        "            self.theta1 -= (self.alpha / n) * sum_error1\n"
      ]
    },
    {
      "cell_type": "code",
      "execution_count": 8,
      "id": "c05795db",
      "metadata": {
        "colab": {
          "base_uri": "https://localhost:8080/"
        },
        "id": "c05795db",
        "outputId": "1b61e05e-fa51-4f6f-b80d-9a69163a5ec0"
      },
      "outputs": [
        {
          "output_type": "stream",
          "name": "stdout",
          "text": [
            "Modelo entrenado: y = 0.09475321533750963 + 1.9737548787242036x\n",
            "Predicción para X=6: 11.937282487682731\n"
          ]
        }
      ],
      "source": [
        "model = RegresionLineal()\n",
        "model.train()\n",
        "print(f\"Modelo entrenado: y = {model.theta0} + {model.theta1}x\")\n",
        "print(f\"Predicción para X=6: {model.predict(6)}\")\n"
      ]
    }
  ],
  "metadata": {
    "colab": {
      "provenance": []
    },
    "language_info": {
      "name": "python"
    },
    "kernelspec": {
      "name": "python3",
      "display_name": "Python 3"
    }
  },
  "nbformat": 4,
  "nbformat_minor": 5
}
